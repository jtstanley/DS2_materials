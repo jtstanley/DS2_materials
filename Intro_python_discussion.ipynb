{
 "cells": [
  {
   "cell_type": "markdown",
   "id": "1eabf165-2266-46df-ae14-16aa50380d3f",
   "metadata": {
    "jp-MarkdownHeadingCollapsed": true,
    "tags": []
   },
   "source": [
    "# Variable Discussion\n",
    "\n",
    "The below cells are demonstrations of the use of variables. We demonstrated the following types of variables:\n",
    "\n",
    "* int\n",
    "* floats\n",
    "* strings\n",
    "* lists\n",
    "\n",
    "Next we want to talk about a few other things:\n",
    "\n",
    "1. functions\n",
    "2. iterables\n",
    "3. loops"
   ]
  },
  {
   "cell_type": "code",
   "execution_count": 4,
   "id": "c89bc894-8ea5-46ab-bb3b-13c3674bce6c",
   "metadata": {},
   "outputs": [
    {
     "name": "stdout",
     "output_type": "stream",
     "text": [
      "Hello, world!\n"
     ]
    }
   ],
   "source": [
    "print(\"Hello, world!\")"
   ]
  },
  {
   "cell_type": "code",
   "execution_count": 5,
   "id": "522014c7-41ff-44bc-863f-6817a3750ecd",
   "metadata": {},
   "outputs": [],
   "source": [
    "my_variable1 = 2"
   ]
  },
  {
   "cell_type": "code",
   "execution_count": 6,
   "id": "648ed59d-febb-4ce5-ab35-712dfe56f107",
   "metadata": {},
   "outputs": [
    {
     "name": "stdout",
     "output_type": "stream",
     "text": [
      "2\n"
     ]
    }
   ],
   "source": [
    "print(my_variable1)"
   ]
  },
  {
   "cell_type": "code",
   "execution_count": 7,
   "id": "afc8a422-2211-4a20-8c46-e3deb9e54358",
   "metadata": {},
   "outputs": [],
   "source": [
    "hello_string = \"Hello, world!\""
   ]
  },
  {
   "cell_type": "code",
   "execution_count": 8,
   "id": "8fea5220-38d0-44f0-8a68-e4005744b280",
   "metadata": {},
   "outputs": [
    {
     "name": "stdout",
     "output_type": "stream",
     "text": [
      "Hello, world!\n"
     ]
    }
   ],
   "source": [
    "print(hello_string)"
   ]
  },
  {
   "cell_type": "code",
   "execution_count": 9,
   "id": "0edce049-5705-4c35-8845-c41fd9d89091",
   "metadata": {},
   "outputs": [
    {
     "data": {
      "text/plain": [
       "int"
      ]
     },
     "execution_count": 9,
     "metadata": {},
     "output_type": "execute_result"
    }
   ],
   "source": [
    "type(my_variable1)"
   ]
  },
  {
   "cell_type": "code",
   "execution_count": 10,
   "id": "4b6d2c81-86c1-4696-adac-7c41f9f2648d",
   "metadata": {},
   "outputs": [
    {
     "data": {
      "text/plain": [
       "str"
      ]
     },
     "execution_count": 10,
     "metadata": {},
     "output_type": "execute_result"
    }
   ],
   "source": [
    "type(hello_string)"
   ]
  },
  {
   "cell_type": "code",
   "execution_count": 11,
   "id": "c1fc6da0-c412-4c01-984f-5e703028adb3",
   "metadata": {},
   "outputs": [
    {
     "data": {
      "text/plain": [
       "float"
      ]
     },
     "execution_count": 11,
     "metadata": {},
     "output_type": "execute_result"
    }
   ],
   "source": [
    "my_variable2 = 2.0\n",
    "type(my_variable2)"
   ]
  },
  {
   "cell_type": "code",
   "execution_count": 12,
   "id": "cb883658-dfdc-4e37-9aad-d93effc8950b",
   "metadata": {},
   "outputs": [],
   "source": [
    "my_list = [2.0, 1, 'abc', '2']"
   ]
  },
  {
   "cell_type": "code",
   "execution_count": 14,
   "id": "51e2fadb-928a-4c0c-a1ab-e3e002e3f8e7",
   "metadata": {},
   "outputs": [
    {
     "data": {
      "text/plain": [
       "float"
      ]
     },
     "execution_count": 14,
     "metadata": {},
     "output_type": "execute_result"
    }
   ],
   "source": [
    "type(my_list[0])"
   ]
  },
  {
   "cell_type": "code",
   "execution_count": 15,
   "id": "5f05db76-857a-4d2b-b1ae-a7aca7389588",
   "metadata": {},
   "outputs": [
    {
     "data": {
      "text/plain": [
       "list"
      ]
     },
     "execution_count": 15,
     "metadata": {},
     "output_type": "execute_result"
    }
   ],
   "source": [
    "type(my_list)"
   ]
  },
  {
   "cell_type": "code",
   "execution_count": 17,
   "id": "1a5db38f-94b3-4558-b574-3d7239cd6bed",
   "metadata": {},
   "outputs": [],
   "source": [
    "my_tuple = (2.0, 1, 'abc', '2')"
   ]
  },
  {
   "cell_type": "code",
   "execution_count": 19,
   "id": "37dab168-c3d4-4255-98c0-81b31f473a0e",
   "metadata": {},
   "outputs": [
    {
     "data": {
      "text/plain": [
       "True"
      ]
     },
     "execution_count": 19,
     "metadata": {},
     "output_type": "execute_result"
    }
   ],
   "source": [
    "my_tuple[0] == my_list[0]"
   ]
  },
  {
   "cell_type": "code",
   "execution_count": 20,
   "id": "d4eeb6f4-1e49-4953-bc15-8aa5d05af424",
   "metadata": {},
   "outputs": [
    {
     "data": {
      "text/plain": [
       "False"
      ]
     },
     "execution_count": 20,
     "metadata": {},
     "output_type": "execute_result"
    }
   ],
   "source": [
    "my_tuple == my_list"
   ]
  },
  {
   "cell_type": "markdown",
   "id": "8eea06ed-f2f8-448a-a58b-34e2ccc789c2",
   "metadata": {
    "jp-MarkdownHeadingCollapsed": true,
    "tags": []
   },
   "source": [
    "# Function Discussion\n",
    "\n",
    "Here in this next section we will demonstrate the use of functions."
   ]
  },
  {
   "cell_type": "code",
   "execution_count": 35,
   "id": "86b18545-1653-47f4-81d3-cef662458a80",
   "metadata": {},
   "outputs": [],
   "source": [
    "# Here we are going to write a function that takes two number \n",
    "# and checks whether or not they are equal to within some precision.\n",
    "\n",
    "def check_equal(num1, num2, precision):\n",
    "    \n",
    "    abs_difference = abs(num1 - num2)\n",
    "    is_equal = abs_difference <= precision\n",
    "    \n",
    "    return is_equal"
   ]
  },
  {
   "cell_type": "code",
   "execution_count": 29,
   "id": "d57fe501-21da-4f18-85f1-d2de7c6e771b",
   "metadata": {},
   "outputs": [
    {
     "data": {
      "text/plain": [
       "False"
      ]
     },
     "execution_count": 29,
     "metadata": {},
     "output_type": "execute_result"
    }
   ],
   "source": [
    "check_equal(2.0, 2.1, 0.001)"
   ]
  },
  {
   "cell_type": "code",
   "execution_count": 30,
   "id": "05cfb812-8fc7-4521-bf87-3ebcb2475f94",
   "metadata": {},
   "outputs": [
    {
     "data": {
      "text/plain": [
       "True"
      ]
     },
     "execution_count": 30,
     "metadata": {},
     "output_type": "execute_result"
    }
   ],
   "source": [
    "check_equal(2.0, 2.1, 0.5)"
   ]
  },
  {
   "cell_type": "markdown",
   "id": "8dbc8f4c-f530-4a60-b1bd-207540f0af37",
   "metadata": {
    "jp-MarkdownHeadingCollapsed": true,
    "tags": []
   },
   "source": [
    "# Imports Discussion\n",
    "\n",
    "Here we will demonstrate the benefit of importing other libraries. The libraries we will discuss are:\n",
    "\n",
    "1. numpy\n",
    "2. sys"
   ]
  },
  {
   "cell_type": "code",
   "execution_count": 31,
   "id": "7003422f-4421-4138-aa80-012a348a3a49",
   "metadata": {},
   "outputs": [],
   "source": [
    "import numpy"
   ]
  },
  {
   "cell_type": "code",
   "execution_count": 33,
   "id": "8e36cc90-a21a-4a64-88b4-f89954d1ef36",
   "metadata": {},
   "outputs": [
    {
     "data": {
      "text/plain": [
       "True"
      ]
     },
     "execution_count": 33,
     "metadata": {},
     "output_type": "execute_result"
    }
   ],
   "source": [
    "numpy.isclose(2.0, 2.1, rtol=0.3)"
   ]
  },
  {
   "cell_type": "code",
   "execution_count": 34,
   "id": "b2415c78-c66a-4bde-a893-78cdea569845",
   "metadata": {},
   "outputs": [
    {
     "data": {
      "text/plain": [
       "True"
      ]
     },
     "execution_count": 34,
     "metadata": {},
     "output_type": "execute_result"
    }
   ],
   "source": [
    "import numpy as np\n",
    "\n",
    "np.isclose(2.0, 2.1, rtol=0.3)"
   ]
  },
  {
   "cell_type": "code",
   "execution_count": 38,
   "id": "cefb6feb-ce15-4904-a324-7fb4ffb1010c",
   "metadata": {},
   "outputs": [],
   "source": [
    "# Here I'm going to try importing my new utils file contents\n",
    "\n",
    "import utils\n",
    "import utils as ut\n",
    "from utils import check_equal"
   ]
  },
  {
   "cell_type": "code",
   "execution_count": 40,
   "id": "93ca270e-5a2b-4369-afb1-21f725d3329c",
   "metadata": {},
   "outputs": [
    {
     "name": "stdout",
     "output_type": "stream",
     "text": [
      "False\n",
      "False\n",
      "False\n"
     ]
    }
   ],
   "source": [
    "print(utils.check_equal(2.0, 2.1, 0.1))\n",
    "print(ut.check_equal(2.0, 2.1, 0.1))\n",
    "print(check_equal(2.0, 2.1, 0.1))"
   ]
  },
  {
   "cell_type": "markdown",
   "id": "ceb9635f-b3e2-46b7-9778-788e3e53efdb",
   "metadata": {
    "tags": []
   },
   "source": [
    "# Iterables and Loops Discussion\n",
    "\n",
    "Here we're going to cover the all mighty for-loop."
   ]
  },
  {
   "cell_type": "code",
   "execution_count": 45,
   "id": "f3b4d959-4a71-4b92-bbcf-a2a9fd1d3c00",
   "metadata": {},
   "outputs": [
    {
     "name": "stdout",
     "output_type": "stream",
     "text": [
      "0\n",
      "1\n",
      "3\n",
      "6\n",
      "10\n",
      "15\n",
      "21\n",
      "28\n",
      "7\n"
     ]
    }
   ],
   "source": [
    "my_list = [1, 2, 3, 4, 5, 6, 7]\n",
    "\n",
    "total_sum = 0\n",
    "\n",
    "for elem in my_list:\n",
    "    print(total_sum)\n",
    "    total_sum = total_sum + elem\n",
    "    \n",
    "print(total_sum)\n",
    "\n",
    "print(elem)"
   ]
  },
  {
   "cell_type": "code",
   "execution_count": 7,
   "id": "7feac0dd-5d4b-4028-828e-5f21800b280c",
   "metadata": {},
   "outputs": [
    {
     "name": "stdout",
     "output_type": "stream",
     "text": [
      "0 a\n",
      "1 b\n",
      "2 c\n",
      "3 d\n"
     ]
    }
   ],
   "source": [
    "for i in range(100):\n",
    "    print(i)\n",
    "    \n",
    "letter_list = ['a', 'b', 'c', 'd']\n",
    "\n",
    "for i, letter in enumerate(letter_list):\n",
    "    print(i, letter)"
   ]
  },
  {
   "cell_type": "markdown",
   "id": "bab28d11-1f9d-42c0-8319-6fb32c76f4a5",
   "metadata": {},
   "source": [
    "# If-else Discussion\n",
    "\n",
    "We're demonstrating if-else by parsing out all the positive elemets of a list.\n",
    "\n",
    "Syntax for the if-else statement:\n",
    "```\n",
    "if <logical>:\n",
    "    <if code block>\n",
    "else:\n",
    "    <else code block>\n",
    "```\n",
    "\n",
    "You can use the hash mark in line to indicate a `variable` which will format it as monospace font.\n",
    "\n",
    "> Block quotes\n",
    "> with the carrot\n",
    ">> and have further indented \n",
    ">> with additional greater-thans\n",
    "\n",
    "$\\int\\frac{\\sigma(x)}{\\alpha + \\beta}\\,\\mathrm{d}x$"
   ]
  },
  {
   "cell_type": "code",
   "execution_count": 13,
   "id": "edf190cc-71a4-4a11-9fff-de52dfa98e50",
   "metadata": {},
   "outputs": [
    {
     "name": "stdout",
     "output_type": "stream",
     "text": [
      "This is negative!: -2\n",
      "This is negative!: -10\n",
      "This is negative!: -120\n",
      "This is negative!: -23\n",
      "[12, 14, 4, 33, 46, 88]\n"
     ]
    }
   ],
   "source": [
    "my_list2 = [12, 14, 4, -2, 33, 46, -10, -120, 88, -23]\n",
    "\n",
    "positives = []\n",
    "\n",
    "for element in my_list2:\n",
    "    # check if the element is positive\n",
    "    logical_check = element >= 0\n",
    "    \n",
    "    # if the element is positive add it to the positives list\n",
    "    if logical_check:\n",
    "        positives.append(element)\n",
    "        \n",
    "    # othersise (else) I'll skip it\n",
    "    else:\n",
    "        print(\"This is negative!:\", element)\n",
    "\n",
    "print(positives)"
   ]
  },
  {
   "cell_type": "markdown",
   "id": "2bea1724-064e-4c38-9e74-087abbfecdaa",
   "metadata": {},
   "source": [
    "# List comprehensions and logicals Discussion\n",
    "\n",
    "```<variable> for <variable> in <variable> if <variable>```"
   ]
  },
  {
   "cell_type": "code",
   "execution_count": 15,
   "id": "415ae231-b070-490a-a0d0-a374ca23de62",
   "metadata": {},
   "outputs": [
    {
     "name": "stdout",
     "output_type": "stream",
     "text": [
      "[2, 10, 120, 23]\n"
     ]
    }
   ],
   "source": [
    "my_list2 = [12, 14, 4, -2, 33, 46, -10, -120, 88, -23]\n",
    "\n",
    "negatives_as_positives = [abs(element) for element in my_list2 if element < 0]\n",
    "print(negatives_as_positives)"
   ]
  },
  {
   "cell_type": "markdown",
   "id": "abd5fc63-56df-4e04-a91f-616bcc4d0a66",
   "metadata": {
    "tags": []
   },
   "source": [
    "# String parsing"
   ]
  },
  {
   "cell_type": "code",
   "execution_count": 18,
   "id": "d06065d9-b5aa-4fe3-8ec7-0d0404a5cb79",
   "metadata": {},
   "outputs": [
    {
     "name": "stdout",
     "output_type": "stream",
     "text": [
      "A\tTAB\n",
      "A\n",
      "NEWLINE\n"
     ]
    }
   ],
   "source": [
    "# Whitespace\n",
    "\n",
    "print(\"A\\tTAB\")\n",
    "print(\"A\\nNEWLINE\")\n",
    "\n",
    "a_typical_line = \"gene\\t123123\\t1234\\t+\\tABCD\\n\""
   ]
  },
  {
   "cell_type": "code",
   "execution_count": 26,
   "id": "057935d2-b8df-40fc-b6d2-7b350fac7b64",
   "metadata": {},
   "outputs": [
    {
     "name": "stdout",
     "output_type": "stream",
     "text": [
      "a,b,c,d,e,f,g\n",
      "A\tB\tC\tD\tE\n"
     ]
    },
    {
     "data": {
      "text/plain": [
       "['A', 'B', 'C', 'D', 'E']"
      ]
     },
     "execution_count": 26,
     "metadata": {},
     "output_type": "execute_result"
    }
   ],
   "source": [
    "my_csv_str = \"a,b,c,d,e,f,g\"\n",
    "\n",
    "my_tsv_str = \"A\\tB\\tC\\tD\\tE\"\n",
    "\n",
    "print(my_csv_str)\n",
    "print(my_tsv_str)\n",
    "\n",
    "split_string = my_csv_str.split(\",\")\n",
    "\n",
    "my_tsv_str.split('\\t')"
   ]
  },
  {
   "cell_type": "code",
   "execution_count": 30,
   "id": "04679327-35b3-45e2-b119-139a31763833",
   "metadata": {},
   "outputs": [
    {
     "data": {
      "text/plain": [
       "['gene', '123123', '1234', '+', 'ABCD']"
      ]
     },
     "execution_count": 30,
     "metadata": {},
     "output_type": "execute_result"
    }
   ],
   "source": [
    "a_typical_line = \"gene\\t123123\\t1234\\t+\\tABCD\\n\"\n",
    "a_typical_line.strip().split('\\t')"
   ]
  },
  {
   "cell_type": "code",
   "execution_count": 35,
   "id": "1eb1f7ad-5b80-4ac8-8e22-39f40a45d6ca",
   "metadata": {},
   "outputs": [
    {
     "data": {
      "text/plain": [
       "['gene', '123123', '1234', '+', 'ABCD']"
      ]
     },
     "execution_count": 35,
     "metadata": {},
     "output_type": "execute_result"
    }
   ],
   "source": [
    "messy_line = \"gene \\t 123123\\t 1234\\t+\\tABCD\\n\"\n",
    "\n",
    "messy_list = messy_line.strip().split('\\t')\n",
    "\n",
    "[element.strip() for element in messy_list]"
   ]
  },
  {
   "cell_type": "code",
   "execution_count": 45,
   "id": "7a8de2b4-9f01-49b1-acd2-9518e75367dc",
   "metadata": {},
   "outputs": [
    {
     "name": "stdout",
     "output_type": "stream",
     "text": [
      "['gene', '123123', '1234', '+', 'ABCD']\n"
     ]
    }
   ],
   "source": [
    "clean_line = [elem.strip() for elem in \"gene \\t 123123\\t 1234\\t+\\tABCD\\n\".strip().split('\\t')]\n",
    "\n",
    "print(clean_line)\n",
    "# str, int, float, str, str\n",
    "\n",
    "castings = [str, int, float, str, str]\n",
    "\n",
    "casted_list = [i(elem) for i, elem in zip(castings, clean_line)]"
   ]
  },
  {
   "cell_type": "markdown",
   "id": "0505935f-4cfb-402b-b345-e25fedd3c441",
   "metadata": {
    "tags": []
   },
   "source": [
    "# File Reading Discussion\n",
    "\n",
    "Two ways of opening a file:\n",
    "\n",
    "1. Using `open` and a `for` loop:\n",
    "```\n",
    "file_obj = open('filename', 'r')\n",
    "\n",
    "for line in file_obj:\n",
    "    do stuff...\n",
    "```\n",
    "\n",
    "2. Using the `with` and `open` method:\n",
    "```\n",
    "with <file> as file_obj:\n",
    "   do stuff...\n",
    "```"
   ]
  },
  {
   "cell_type": "code",
   "execution_count": 18,
   "id": "2c4cc7ca-33f8-4121-ac2d-88024648e3fc",
   "metadata": {},
   "outputs": [],
   "source": [
    "counties_data_file = '/home/jovyan/DS2_materials/county_data.csv'\n",
    "\n",
    "file_obj = open(counties_data_file, 'r')\n",
    "\n",
    "data_list = []\n",
    "castings = [str, str, int, float]\n",
    "\n",
    "for line in file_obj:\n",
    "    \n",
    "    temp_line = line.strip().split(',')\n",
    "    parsed_line = [cast(elem.strip()) for cast, elem in zip(castings, temp_line)]\n",
    "    \n",
    "    data_list.append(parsed_line)"
   ]
  },
  {
   "cell_type": "code",
   "execution_count": 19,
   "id": "dffa50e1-9f0a-4d1f-a885-5e58dc9a12e3",
   "metadata": {},
   "outputs": [
    {
     "data": {
      "text/plain": [
       "[['Boulder', 'CO', 106392, 740.0],\n",
       " ['Broomfield', 'CO', 70465, 33.55],\n",
       " ['Gilpin', 'CO', 6243, 150.0],\n",
       " ['Grand', 'CO', 15734, 1870.0],\n",
       " ['Jefferson', 'CO', 582881, 774.0],\n",
       " ['Larimer', 'CO', 356899, 2634.0],\n",
       " ['Weld', 'CO', 324492, 4017.0]]"
      ]
     },
     "execution_count": 19,
     "metadata": {},
     "output_type": "execute_result"
    }
   ],
   "source": [
    "data_list"
   ]
  },
  {
   "cell_type": "code",
   "execution_count": 75,
   "id": "2737ce3a-7967-4347-9f73-7b3376063c0d",
   "metadata": {},
   "outputs": [
    {
     "data": {
      "text/plain": [
       "70465"
      ]
     },
     "execution_count": 75,
     "metadata": {},
     "output_type": "execute_result"
    }
   ],
   "source": [
    "data_list[1][2]"
   ]
  },
  {
   "cell_type": "code",
   "execution_count": 71,
   "id": "483d5ec5-0ef3-4eeb-a5b6-7ab8c991ae50",
   "metadata": {},
   "outputs": [
    {
     "name": "stdout",
     "output_type": "stream",
     "text": [
      "Boulder,CO,106392,740.0\n",
      "Broomfield,CO,70465,33.55\n",
      "Gilpin,CO,6243,150.0\n",
      "Grand,CO,15734,1870.0\n",
      "Jefferson,CO,582881,774.0\n",
      "Larimer,CO,356899,2634.0\n",
      "Weld,CO,324492,4017.0\n"
     ]
    }
   ],
   "source": [
    "cat county_data.csv"
   ]
  },
  {
   "cell_type": "markdown",
   "id": "9d23f8ef-e02f-4956-977d-065903dc5e26",
   "metadata": {},
   "source": [
    "# Dictionary Discussion\n",
    "\n",
    "Dictionaries are an iterable data type. But unlike a list, the dictionary comprises a bunch of `<key>:<value>` pairs. "
   ]
  },
  {
   "cell_type": "code",
   "execution_count": null,
   "id": "a829ae1c-2305-4df0-ad2b-bef5c9be1e11",
   "metadata": {},
   "outputs": [],
   "source": [
    "# (, ) tuple()\n",
    "# [, ] list()\n",
    "# {, } set()\n",
    "# {:, } dict()"
   ]
  },
  {
   "cell_type": "code",
   "execution_count": 26,
   "id": "5dc52245-ab02-4618-9b2c-28d1efd5541f",
   "metadata": {},
   "outputs": [
    {
     "name": "stdout",
     "output_type": "stream",
     "text": [
      "{1, 2, 3, 4, 5}\n"
     ]
    }
   ],
   "source": [
    "myset = {1, 2, 3, 4, 5}\n",
    "repeat_list = [1, 1, 1, 2, 2, 3, 3, 4, 4, 4, 5, 5]\n",
    "list_to_set = set(repeat_list)\n",
    "print(list_to_set)"
   ]
  },
  {
   "cell_type": "code",
   "execution_count": 28,
   "id": "97e4861e-6da4-4e14-bf58-5a6c038493f4",
   "metadata": {},
   "outputs": [
    {
     "data": {
      "text/plain": [
       "[1, 2, 3, 4, 5]"
      ]
     },
     "execution_count": 28,
     "metadata": {},
     "output_type": "execute_result"
    }
   ],
   "source": [
    "list(list_to_set)"
   ]
  },
  {
   "cell_type": "code",
   "execution_count": 31,
   "id": "4a1114ad-0784-460d-ba8e-d15439e51a2f",
   "metadata": {},
   "outputs": [],
   "source": [
    "list1 = [1, 2, 'a', 4.3, ['asdf', 1, 33]]\n",
    "\n",
    "dict1 = {'a':1, 'b':2, 'c':3, 'd':4}"
   ]
  },
  {
   "cell_type": "code",
   "execution_count": 32,
   "id": "7db57eac-37a8-4ec0-961c-14e6167bccfc",
   "metadata": {},
   "outputs": [
    {
     "data": {
      "text/plain": [
       "1"
      ]
     },
     "execution_count": 32,
     "metadata": {},
     "output_type": "execute_result"
    }
   ],
   "source": [
    "dict1['a']"
   ]
  },
  {
   "cell_type": "code",
   "execution_count": 41,
   "id": "400ab9d7-e968-4498-8ce7-ae3531130571",
   "metadata": {},
   "outputs": [],
   "source": [
    "county_dict = {'county':[], 'state':[], 'pop':[], 'area':[]}\n",
    "\n",
    "header = ['county', 'state', 'pop', 'area']\n",
    "\n",
    "count_dict_alt = {col_name:[] for col_name in header}"
   ]
  },
  {
   "cell_type": "code",
   "execution_count": 42,
   "id": "bb797669-a02c-401e-8451-4c04eaf71aa3",
   "metadata": {},
   "outputs": [
    {
     "name": "stdout",
     "output_type": "stream",
     "text": [
      "{'county': [], 'state': [], 'pop': [], 'area': []}\n",
      "{'county': [], 'state': [], 'pop': [], 'area': []}\n"
     ]
    }
   ],
   "source": [
    "print(county_dict)\n",
    "print(count_dict_alt)"
   ]
  },
  {
   "cell_type": "code",
   "execution_count": 43,
   "id": "ce50d789-604b-4ea9-a65b-cb352f262aab",
   "metadata": {},
   "outputs": [
    {
     "name": "stdout",
     "output_type": "stream",
     "text": [
      "[]\n",
      "{'county': ['Denver'], 'state': [], 'pop': [], 'area': []}\n"
     ]
    }
   ],
   "source": [
    "print(county_dict['county'])\n",
    "county_dict['county'].append('Denver')\n",
    "print(county_dict)"
   ]
  },
  {
   "cell_type": "code",
   "execution_count": 45,
   "id": "baa85369-6254-4080-9479-a30baca501b3",
   "metadata": {},
   "outputs": [
    {
     "data": {
      "text/plain": [
       "'Denver'"
      ]
     },
     "execution_count": 45,
     "metadata": {},
     "output_type": "execute_result"
    }
   ],
   "source": [
    "county_dict['county'][0]"
   ]
  },
  {
   "cell_type": "code",
   "execution_count": 46,
   "id": "f1a559c6-add2-4667-a5df-3a3413edd2f8",
   "metadata": {},
   "outputs": [],
   "source": [
    "counties_data_file = '/home/jovyan/DS2_materials/county_data.csv'\n",
    "\n",
    "file_obj = open(counties_data_file, 'r')\n",
    "\n",
    "castings = [str, str, int, float]\n",
    "header = ['county', 'state', 'pop', 'area']\n",
    "county_dict = {col_name:[] for col_name in header}\n",
    "\n",
    "for line in file_obj:\n",
    "    \n",
    "    temp_line = line.strip().split(',')\n",
    "    # [<county name>, <state abbreviation>, <population>, <area>]\n",
    "    parsed_line = [cast(elem.strip()) for cast, elem in zip(castings, temp_line)]\n",
    "    \n",
    "    county_dict['county'].append(parsed_line[0])\n",
    "    county_dict['state'].append(parsed_line[1])\n",
    "    county_dict['pop'].append(parsed_line[2])\n",
    "    county_dict['area'].append(parsed_line[3])\n",
    "    \n",
    "file_obj.close()"
   ]
  },
  {
   "cell_type": "code",
   "execution_count": 47,
   "id": "87c3b95f-0014-49f2-bd53-8d6f9c1b6f7f",
   "metadata": {},
   "outputs": [
    {
     "data": {
      "text/plain": [
       "{'county': ['Boulder',\n",
       "  'Broomfield',\n",
       "  'Gilpin',\n",
       "  'Grand',\n",
       "  'Jefferson',\n",
       "  'Larimer',\n",
       "  'Weld'],\n",
       " 'state': ['CO', 'CO', 'CO', 'CO', 'CO', 'CO', 'CO'],\n",
       " 'pop': [106392, 70465, 6243, 15734, 582881, 356899, 324492],\n",
       " 'area': [740.0, 33.55, 150.0, 1870.0, 774.0, 2634.0, 4017.0]}"
      ]
     },
     "execution_count": 47,
     "metadata": {},
     "output_type": "execute_result"
    }
   ],
   "source": [
    "county_dict"
   ]
  },
  {
   "cell_type": "code",
   "execution_count": 49,
   "id": "349a695a-297d-480b-9997-2dd6cef96cfe",
   "metadata": {},
   "outputs": [
    {
     "name": "stdout",
     "output_type": "stream",
     "text": [
      "['Boulder', 'Broomfield', 'Gilpin', 'Grand', 'Jefferson', 'Larimer', 'Weld']\n",
      "[106392, 70465, 6243, 15734, 582881, 356899, 324492]\n"
     ]
    }
   ],
   "source": [
    "print(county_dict['county'])\n",
    "print(county_dict['pop'])"
   ]
  },
  {
   "cell_type": "code",
   "execution_count": 54,
   "id": "4e35e76c-4b95-4738-8325-8fbde5cb9ef2",
   "metadata": {},
   "outputs": [
    {
     "name": "stdout",
     "output_type": "stream",
     "text": [
      "Total population: 1463106\n",
      "Total area: 10218.55\n",
      "Total area: 10218.55\n"
     ]
    }
   ],
   "source": [
    "print(\"Total population:\", sum(county_dict['pop']))\n",
    "print(\"Total area:\", sum(county_dict['area']))\n",
    "\n",
    "total_area = sum(county_dict['area'])\n",
    "print(f\"Total area: {total_area}\")"
   ]
  },
  {
   "cell_type": "markdown",
   "id": "38860bf5-37b5-4d8d-a3a0-018c10244b0c",
   "metadata": {},
   "source": [
    "# Pandas demo"
   ]
  },
  {
   "cell_type": "code",
   "execution_count": 57,
   "id": "3a2a685a-fafd-4dd7-b244-12b1b8df95a5",
   "metadata": {},
   "outputs": [],
   "source": [
    "import pandas as pd\n",
    "\n",
    "counties_data_file = '/home/jovyan/DS2_materials/county_data.csv'\n",
    "\n",
    "header = ['county', 'state', 'pop', 'area']\n",
    "county_df = pd.read_csv(counties_data_file, header=None, names=header)"
   ]
  },
  {
   "cell_type": "code",
   "execution_count": 58,
   "id": "0310f141-3337-498e-8c75-27b908c7d344",
   "metadata": {},
   "outputs": [
    {
     "data": {
      "text/html": [
       "<div>\n",
       "<style scoped>\n",
       "    .dataframe tbody tr th:only-of-type {\n",
       "        vertical-align: middle;\n",
       "    }\n",
       "\n",
       "    .dataframe tbody tr th {\n",
       "        vertical-align: top;\n",
       "    }\n",
       "\n",
       "    .dataframe thead th {\n",
       "        text-align: right;\n",
       "    }\n",
       "</style>\n",
       "<table border=\"1\" class=\"dataframe\">\n",
       "  <thead>\n",
       "    <tr style=\"text-align: right;\">\n",
       "      <th></th>\n",
       "      <th>county</th>\n",
       "      <th>state</th>\n",
       "      <th>pop</th>\n",
       "      <th>area</th>\n",
       "    </tr>\n",
       "  </thead>\n",
       "  <tbody>\n",
       "    <tr>\n",
       "      <th>0</th>\n",
       "      <td>Boulder</td>\n",
       "      <td>CO</td>\n",
       "      <td>106392</td>\n",
       "      <td>740.00</td>\n",
       "    </tr>\n",
       "    <tr>\n",
       "      <th>1</th>\n",
       "      <td>Broomfield</td>\n",
       "      <td>CO</td>\n",
       "      <td>70465</td>\n",
       "      <td>33.55</td>\n",
       "    </tr>\n",
       "    <tr>\n",
       "      <th>2</th>\n",
       "      <td>Gilpin</td>\n",
       "      <td>CO</td>\n",
       "      <td>6243</td>\n",
       "      <td>150.00</td>\n",
       "    </tr>\n",
       "    <tr>\n",
       "      <th>3</th>\n",
       "      <td>Grand</td>\n",
       "      <td>CO</td>\n",
       "      <td>15734</td>\n",
       "      <td>1870.00</td>\n",
       "    </tr>\n",
       "    <tr>\n",
       "      <th>4</th>\n",
       "      <td>Jefferson</td>\n",
       "      <td>CO</td>\n",
       "      <td>582881</td>\n",
       "      <td>774.00</td>\n",
       "    </tr>\n",
       "    <tr>\n",
       "      <th>5</th>\n",
       "      <td>Larimer</td>\n",
       "      <td>CO</td>\n",
       "      <td>356899</td>\n",
       "      <td>2634.00</td>\n",
       "    </tr>\n",
       "    <tr>\n",
       "      <th>6</th>\n",
       "      <td>Weld</td>\n",
       "      <td>CO</td>\n",
       "      <td>324492</td>\n",
       "      <td>4017.00</td>\n",
       "    </tr>\n",
       "  </tbody>\n",
       "</table>\n",
       "</div>"
      ],
      "text/plain": [
       "       county state     pop     area\n",
       "0     Boulder    CO  106392   740.00\n",
       "1  Broomfield    CO   70465    33.55\n",
       "2      Gilpin    CO    6243   150.00\n",
       "3       Grand    CO   15734  1870.00\n",
       "4   Jefferson    CO  582881   774.00\n",
       "5     Larimer    CO  356899  2634.00\n",
       "6        Weld    CO  324492  4017.00"
      ]
     },
     "execution_count": 58,
     "metadata": {},
     "output_type": "execute_result"
    }
   ],
   "source": [
    "county_df"
   ]
  },
  {
   "cell_type": "code",
   "execution_count": 65,
   "id": "f4dd2451-b4f5-45de-8b1c-cf5764f3e39f",
   "metadata": {},
   "outputs": [
    {
     "data": {
      "text/html": [
       "<div>\n",
       "<style scoped>\n",
       "    .dataframe tbody tr th:only-of-type {\n",
       "        vertical-align: middle;\n",
       "    }\n",
       "\n",
       "    .dataframe tbody tr th {\n",
       "        vertical-align: top;\n",
       "    }\n",
       "\n",
       "    .dataframe thead th {\n",
       "        text-align: right;\n",
       "    }\n",
       "</style>\n",
       "<table border=\"1\" class=\"dataframe\">\n",
       "  <thead>\n",
       "    <tr style=\"text-align: right;\">\n",
       "      <th></th>\n",
       "      <th>area</th>\n",
       "      <th>county</th>\n",
       "    </tr>\n",
       "  </thead>\n",
       "  <tbody>\n",
       "    <tr>\n",
       "      <th>2</th>\n",
       "      <td>150.0</td>\n",
       "      <td>Gilpin</td>\n",
       "    </tr>\n",
       "    <tr>\n",
       "      <th>3</th>\n",
       "      <td>1870.0</td>\n",
       "      <td>Grand</td>\n",
       "    </tr>\n",
       "    <tr>\n",
       "      <th>4</th>\n",
       "      <td>774.0</td>\n",
       "      <td>Jefferson</td>\n",
       "    </tr>\n",
       "    <tr>\n",
       "      <th>5</th>\n",
       "      <td>2634.0</td>\n",
       "      <td>Larimer</td>\n",
       "    </tr>\n",
       "  </tbody>\n",
       "</table>\n",
       "</div>"
      ],
      "text/plain": [
       "     area     county\n",
       "2   150.0     Gilpin\n",
       "3  1870.0      Grand\n",
       "4   774.0  Jefferson\n",
       "5  2634.0    Larimer"
      ]
     },
     "execution_count": 65,
     "metadata": {},
     "output_type": "execute_result"
    }
   ],
   "source": [
    "county_df['area']\n",
    "\n",
    "x = ['area', 'county']\n",
    "county_df[2:6][x]"
   ]
  },
  {
   "cell_type": "markdown",
   "id": "733318ee-a8dd-4165-b966-7bdb19276b7b",
   "metadata": {},
   "source": [
    "# Matplotlib discussion"
   ]
  },
  {
   "cell_type": "code",
   "execution_count": 87,
   "id": "d0e832da-df60-4a70-9b8c-3306ba0278a6",
   "metadata": {},
   "outputs": [
    {
     "data": {
      "image/png": "[encoded data removed]",
      "text/plain": [
       "<Figure size 640x480 with 1 Axes>"
      ]
     },
     "metadata": {},
     "output_type": "display_data"
    }
   ],
   "source": [
    "import matplotlib.pyplot as plt\n",
    "\n",
    "x_values = [1, 2, 3, 4, 5]\n",
    "y_values = [1, 2, 3, 4, 5]\n",
    "y_values1 = [0.5, 1.5, 2.5, 3.5, 4.5]\n",
    "\n",
    "plt.plot(\n",
    "    x_values, y_values, \n",
    "    marker='+', markersize=12, mec='g', \n",
    "    linestyle='-', color='r'\n",
    ")\n",
    "plt.plot(x_values, y_values1, marker='*', markersize=12, linestyle='-.')\n",
    "plt.plot(x_values, [2, 2, 2, 2, 2])\n",
    "plt.xlabel('x axis', size=23)\n",
    "plt.ylabel('y axis', size=12)\n",
    "plt.legend(['curve 1', 'curve 2', 'curve 3'], loc='upper left')\n",
    "plt.xlim([1.5, 4.0])\n",
    "plt.savefig('./final_figure.pdf', dpi=300)\n",
    "plt.show()\n"
   ]
  },
  {
   "cell_type": "markdown",
   "id": "7319089c-263f-4a40-af03-903aaf40381b",
   "metadata": {
    "jp-MarkdownHeadingCollapsed": true,
    "tags": []
   },
   "source": [
    "# SCRATCH"
   ]
  },
  {
   "cell_type": "code",
   "execution_count": 6,
   "id": "69cba07a-b08e-4d09-b4c5-0500a8bd7167",
   "metadata": {},
   "outputs": [],
   "source": [
    "import pandas as pd\n",
    "\n",
    "counties_data_file = '/home/jovyan/another_repo/county_data.csv'\n",
    "\n",
    "data = pd.read_csv(counties_data_file, header=None, names=['county', 'state', 'pop', 'area'])"
   ]
  },
  {
   "cell_type": "code",
   "execution_count": 17,
   "id": "cf267153-dc0d-4705-8049-14bc04b766f4",
   "metadata": {},
   "outputs": [
    {
     "data": {
      "text/html": [
       "<div>\n",
       "<style scoped>\n",
       "    .dataframe tbody tr th:only-of-type {\n",
       "        vertical-align: middle;\n",
       "    }\n",
       "\n",
       "    .dataframe tbody tr th {\n",
       "        vertical-align: top;\n",
       "    }\n",
       "\n",
       "    .dataframe thead th {\n",
       "        text-align: right;\n",
       "    }\n",
       "</style>\n",
       "<table border=\"1\" class=\"dataframe\">\n",
       "  <thead>\n",
       "    <tr style=\"text-align: right;\">\n",
       "      <th></th>\n",
       "      <th>county</th>\n",
       "      <th>pop</th>\n",
       "    </tr>\n",
       "  </thead>\n",
       "  <tbody>\n",
       "    <tr>\n",
       "      <th>0</th>\n",
       "      <td>Boulder</td>\n",
       "      <td>106392</td>\n",
       "    </tr>\n",
       "    <tr>\n",
       "      <th>1</th>\n",
       "      <td>Broomfield</td>\n",
       "      <td>70465</td>\n",
       "    </tr>\n",
       "    <tr>\n",
       "      <th>2</th>\n",
       "      <td>Gilpin</td>\n",
       "      <td>6243</td>\n",
       "    </tr>\n",
       "    <tr>\n",
       "      <th>3</th>\n",
       "      <td>Grand</td>\n",
       "      <td>15734</td>\n",
       "    </tr>\n",
       "    <tr>\n",
       "      <th>4</th>\n",
       "      <td>Jefferson</td>\n",
       "      <td>582881</td>\n",
       "    </tr>\n",
       "  </tbody>\n",
       "</table>\n",
       "</div>"
      ],
      "text/plain": [
       "       county     pop\n",
       "0     Boulder  106392\n",
       "1  Broomfield   70465\n",
       "2      Gilpin    6243\n",
       "3       Grand   15734\n",
       "4   Jefferson  582881"
      ]
     },
     "execution_count": 17,
     "metadata": {},
     "output_type": "execute_result"
    }
   ],
   "source": [
    "data[0:5][['county', 'pop']]"
   ]
  },
  {
   "cell_type": "code",
   "execution_count": null,
   "id": "9516e705-fbef-4ea0-97b8-95441f3bef3a",
   "metadata": {},
   "outputs": [],
   "source": [
    "import numpy as np\n",
    "\n",
    "np.read_csv(counties_data_file)"
   ]
  }
 ],
 "metadata": {
  "kernelspec": {
   "display_name": "Python 3 (ipykernel)",
   "language": "python",
   "name": "python3"
  },
  "language_info": {
   "codemirror_mode": {
    "name": "ipython",
    "version": 3
   },
   "file_extension": ".py",
   "mimetype": "text/x-python",
   "name": "python",
   "nbconvert_exporter": "python",
   "pygments_lexer": "ipython3",
   "version": "3.10.8"
  }
 },
 "nbformat": 4,
 "nbformat_minor": 5
}
