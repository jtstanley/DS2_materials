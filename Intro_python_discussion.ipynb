{
 "cells": [
  {
   "cell_type": "markdown",
   "id": "1eabf165-2266-46df-ae14-16aa50380d3f",
   "metadata": {
    "jp-MarkdownHeadingCollapsed": true,
    "tags": []
   },
   "source": [
    "# Variable Discussion\n",
    "\n",
    "The below cells are demonstrations of the use of variables. We demonstrated the following types of variables:\n",
    "\n",
    "* int\n",
    "* floats\n",
    "* strings\n",
    "* lists\n",
    "\n",
    "Next we want to talk about a few other things:\n",
    "\n",
    "1. functions\n",
    "2. iterables\n",
    "3. loops"
   ]
  },
  {
   "cell_type": "code",
   "execution_count": 4,
   "id": "c89bc894-8ea5-46ab-bb3b-13c3674bce6c",
   "metadata": {},
   "outputs": [
    {
     "name": "stdout",
     "output_type": "stream",
     "text": [
      "Hello, world!\n"
     ]
    }
   ],
   "source": [
    "print(\"Hello, world!\")"
   ]
  },
  {
   "cell_type": "code",
   "execution_count": 5,
   "id": "522014c7-41ff-44bc-863f-6817a3750ecd",
   "metadata": {},
   "outputs": [],
   "source": [
    "my_variable1 = 2"
   ]
  },
  {
   "cell_type": "code",
   "execution_count": 6,
   "id": "648ed59d-febb-4ce5-ab35-712dfe56f107",
   "metadata": {},
   "outputs": [
    {
     "name": "stdout",
     "output_type": "stream",
     "text": [
      "2\n"
     ]
    }
   ],
   "source": [
    "print(my_variable1)"
   ]
  },
  {
   "cell_type": "code",
   "execution_count": 7,
   "id": "afc8a422-2211-4a20-8c46-e3deb9e54358",
   "metadata": {},
   "outputs": [],
   "source": [
    "hello_string = \"Hello, world!\""
   ]
  },
  {
   "cell_type": "code",
   "execution_count": 8,
   "id": "8fea5220-38d0-44f0-8a68-e4005744b280",
   "metadata": {},
   "outputs": [
    {
     "name": "stdout",
     "output_type": "stream",
     "text": [
      "Hello, world!\n"
     ]
    }
   ],
   "source": [
    "print(hello_string)"
   ]
  },
  {
   "cell_type": "code",
   "execution_count": 9,
   "id": "0edce049-5705-4c35-8845-c41fd9d89091",
   "metadata": {},
   "outputs": [
    {
     "data": {
      "text/plain": [
       "int"
      ]
     },
     "execution_count": 9,
     "metadata": {},
     "output_type": "execute_result"
    }
   ],
   "source": [
    "type(my_variable1)"
   ]
  },
  {
   "cell_type": "code",
   "execution_count": 10,
   "id": "4b6d2c81-86c1-4696-adac-7c41f9f2648d",
   "metadata": {},
   "outputs": [
    {
     "data": {
      "text/plain": [
       "str"
      ]
     },
     "execution_count": 10,
     "metadata": {},
     "output_type": "execute_result"
    }
   ],
   "source": [
    "type(hello_string)"
   ]
  },
  {
   "cell_type": "code",
   "execution_count": 11,
   "id": "c1fc6da0-c412-4c01-984f-5e703028adb3",
   "metadata": {},
   "outputs": [
    {
     "data": {
      "text/plain": [
       "float"
      ]
     },
     "execution_count": 11,
     "metadata": {},
     "output_type": "execute_result"
    }
   ],
   "source": [
    "my_variable2 = 2.0\n",
    "type(my_variable2)"
   ]
  },
  {
   "cell_type": "code",
   "execution_count": 12,
   "id": "cb883658-dfdc-4e37-9aad-d93effc8950b",
   "metadata": {},
   "outputs": [],
   "source": [
    "my_list = [2.0, 1, 'abc', '2']"
   ]
  },
  {
   "cell_type": "code",
   "execution_count": 14,
   "id": "51e2fadb-928a-4c0c-a1ab-e3e002e3f8e7",
   "metadata": {},
   "outputs": [
    {
     "data": {
      "text/plain": [
       "float"
      ]
     },
     "execution_count": 14,
     "metadata": {},
     "output_type": "execute_result"
    }
   ],
   "source": [
    "type(my_list[0])"
   ]
  },
  {
   "cell_type": "code",
   "execution_count": 15,
   "id": "5f05db76-857a-4d2b-b1ae-a7aca7389588",
   "metadata": {},
   "outputs": [
    {
     "data": {
      "text/plain": [
       "list"
      ]
     },
     "execution_count": 15,
     "metadata": {},
     "output_type": "execute_result"
    }
   ],
   "source": [
    "type(my_list)"
   ]
  },
  {
   "cell_type": "code",
   "execution_count": 17,
   "id": "1a5db38f-94b3-4558-b574-3d7239cd6bed",
   "metadata": {},
   "outputs": [],
   "source": [
    "my_tuple = (2.0, 1, 'abc', '2')"
   ]
  },
  {
   "cell_type": "code",
   "execution_count": 19,
   "id": "37dab168-c3d4-4255-98c0-81b31f473a0e",
   "metadata": {},
   "outputs": [
    {
     "data": {
      "text/plain": [
       "True"
      ]
     },
     "execution_count": 19,
     "metadata": {},
     "output_type": "execute_result"
    }
   ],
   "source": [
    "my_tuple[0] == my_list[0]"
   ]
  },
  {
   "cell_type": "code",
   "execution_count": 20,
   "id": "d4eeb6f4-1e49-4953-bc15-8aa5d05af424",
   "metadata": {},
   "outputs": [
    {
     "data": {
      "text/plain": [
       "False"
      ]
     },
     "execution_count": 20,
     "metadata": {},
     "output_type": "execute_result"
    }
   ],
   "source": [
    "my_tuple == my_list"
   ]
  },
  {
   "cell_type": "markdown",
   "id": "8eea06ed-f2f8-448a-a58b-34e2ccc789c2",
   "metadata": {
    "jp-MarkdownHeadingCollapsed": true,
    "tags": []
   },
   "source": [
    "# Function Discussion\n",
    "\n",
    "Here in this next section we will demonstrate the use of functions."
   ]
  },
  {
   "cell_type": "code",
   "execution_count": 35,
   "id": "86b18545-1653-47f4-81d3-cef662458a80",
   "metadata": {},
   "outputs": [],
   "source": [
    "# Here we are going to write a function that takes two number \n",
    "# and checks whether or not they are equal to within some precision.\n",
    "\n",
    "def check_equal(num1, num2, precision):\n",
    "    \n",
    "    abs_difference = abs(num1 - num2)\n",
    "    is_equal = abs_difference <= precision\n",
    "    \n",
    "    return is_equal"
   ]
  },
  {
   "cell_type": "code",
   "execution_count": 29,
   "id": "d57fe501-21da-4f18-85f1-d2de7c6e771b",
   "metadata": {},
   "outputs": [
    {
     "data": {
      "text/plain": [
       "False"
      ]
     },
     "execution_count": 29,
     "metadata": {},
     "output_type": "execute_result"
    }
   ],
   "source": [
    "check_equal(2.0, 2.1, 0.001)"
   ]
  },
  {
   "cell_type": "code",
   "execution_count": 30,
   "id": "05cfb812-8fc7-4521-bf87-3ebcb2475f94",
   "metadata": {},
   "outputs": [
    {
     "data": {
      "text/plain": [
       "True"
      ]
     },
     "execution_count": 30,
     "metadata": {},
     "output_type": "execute_result"
    }
   ],
   "source": [
    "check_equal(2.0, 2.1, 0.5)"
   ]
  },
  {
   "cell_type": "markdown",
   "id": "8dbc8f4c-f530-4a60-b1bd-207540f0af37",
   "metadata": {
    "jp-MarkdownHeadingCollapsed": true,
    "tags": []
   },
   "source": [
    "# Imports Discussion\n",
    "\n",
    "Here we will demonstrate the benefit of importing other libraries. The libraries we will discuss are:\n",
    "\n",
    "1. numpy\n",
    "2. sys"
   ]
  },
  {
   "cell_type": "code",
   "execution_count": 31,
   "id": "7003422f-4421-4138-aa80-012a348a3a49",
   "metadata": {},
   "outputs": [],
   "source": [
    "import numpy"
   ]
  },
  {
   "cell_type": "code",
   "execution_count": 33,
   "id": "8e36cc90-a21a-4a64-88b4-f89954d1ef36",
   "metadata": {},
   "outputs": [
    {
     "data": {
      "text/plain": [
       "True"
      ]
     },
     "execution_count": 33,
     "metadata": {},
     "output_type": "execute_result"
    }
   ],
   "source": [
    "numpy.isclose(2.0, 2.1, rtol=0.3)"
   ]
  },
  {
   "cell_type": "code",
   "execution_count": 34,
   "id": "b2415c78-c66a-4bde-a893-78cdea569845",
   "metadata": {},
   "outputs": [
    {
     "data": {
      "text/plain": [
       "True"
      ]
     },
     "execution_count": 34,
     "metadata": {},
     "output_type": "execute_result"
    }
   ],
   "source": [
    "import numpy as np\n",
    "\n",
    "np.isclose(2.0, 2.1, rtol=0.3)"
   ]
  },
  {
   "cell_type": "code",
   "execution_count": 38,
   "id": "cefb6feb-ce15-4904-a324-7fb4ffb1010c",
   "metadata": {},
   "outputs": [],
   "source": [
    "# Here I'm going to try importing my new utils file contents\n",
    "\n",
    "import utils\n",
    "import utils as ut\n",
    "from utils import check_equal"
   ]
  },
  {
   "cell_type": "code",
   "execution_count": 40,
   "id": "93ca270e-5a2b-4369-afb1-21f725d3329c",
   "metadata": {},
   "outputs": [
    {
     "name": "stdout",
     "output_type": "stream",
     "text": [
      "False\n",
      "False\n",
      "False\n"
     ]
    }
   ],
   "source": [
    "print(utils.check_equal(2.0, 2.1, 0.1))\n",
    "print(ut.check_equal(2.0, 2.1, 0.1))\n",
    "print(check_equal(2.0, 2.1, 0.1))"
   ]
  },
  {
   "cell_type": "markdown",
   "id": "ceb9635f-b3e2-46b7-9778-788e3e53efdb",
   "metadata": {
    "tags": []
   },
   "source": [
    "# Iterables and Loops Discussion\n",
    "\n",
    "Here we're going to cover the all mighty for-loop."
   ]
  },
  {
   "cell_type": "code",
   "execution_count": 45,
   "id": "f3b4d959-4a71-4b92-bbcf-a2a9fd1d3c00",
   "metadata": {},
   "outputs": [
    {
     "name": "stdout",
     "output_type": "stream",
     "text": [
      "0\n",
      "1\n",
      "3\n",
      "6\n",
      "10\n",
      "15\n",
      "21\n",
      "28\n",
      "7\n"
     ]
    }
   ],
   "source": [
    "my_list = [1, 2, 3, 4, 5, 6, 7]\n",
    "\n",
    "total_sum = 0\n",
    "\n",
    "for elem in my_list:\n",
    "    print(total_sum)\n",
    "    total_sum = total_sum + elem\n",
    "    \n",
    "print(total_sum)\n",
    "\n",
    "print(elem)"
   ]
  },
  {
   "cell_type": "code",
   "execution_count": 7,
   "id": "7feac0dd-5d4b-4028-828e-5f21800b280c",
   "metadata": {},
   "outputs": [
    {
     "name": "stdout",
     "output_type": "stream",
     "text": [
      "0 a\n",
      "1 b\n",
      "2 c\n",
      "3 d\n"
     ]
    }
   ],
   "source": [
    "for i in range(100):\n",
    "    print(i)\n",
    "    \n",
    "letter_list = ['a', 'b', 'c', 'd']\n",
    "\n",
    "for i, letter in enumerate(letter_list):\n",
    "    print(i, letter)"
   ]
  },
  {
   "cell_type": "markdown",
   "id": "bab28d11-1f9d-42c0-8319-6fb32c76f4a5",
   "metadata": {},
   "source": [
    "# If-else Discussion\n",
    "\n",
    "We're demonstrating if-else by parsing out all the positive elemets of a list.\n",
    "\n",
    "Syntax for the if-else statement:\n",
    "```\n",
    "if <logical>:\n",
    "    <if code block>\n",
    "else:\n",
    "    <else code block>\n",
    "```\n",
    "\n",
    "You can use the hash mark in line to indicate a `variable` which will format it as monospace font.\n",
    "\n",
    "> Block quotes\n",
    "> with the carrot\n",
    ">> and have further indented \n",
    ">> with additional greater-thans\n",
    "\n",
    "$\\int\\frac{\\sigma(x)}{\\alpha + \\beta}\\,\\mathrm{d}x$"
   ]
  },
  {
   "cell_type": "code",
   "execution_count": 13,
   "id": "edf190cc-71a4-4a11-9fff-de52dfa98e50",
   "metadata": {},
   "outputs": [
    {
     "name": "stdout",
     "output_type": "stream",
     "text": [
      "This is negative!: -2\n",
      "This is negative!: -10\n",
      "This is negative!: -120\n",
      "This is negative!: -23\n",
      "[12, 14, 4, 33, 46, 88]\n"
     ]
    }
   ],
   "source": [
    "my_list2 = [12, 14, 4, -2, 33, 46, -10, -120, 88, -23]\n",
    "\n",
    "positives = []\n",
    "\n",
    "for element in my_list2:\n",
    "    # check if the element is positive\n",
    "    logical_check = element >= 0\n",
    "    \n",
    "    # if the element is positive add it to the positives list\n",
    "    if logical_check:\n",
    "        positives.append(element)\n",
    "        \n",
    "    # othersise (else) I'll skip it\n",
    "    else:\n",
    "        print(\"This is negative!:\", element)\n",
    "\n",
    "print(positives)"
   ]
  },
  {
   "cell_type": "markdown",
   "id": "2bea1724-064e-4c38-9e74-087abbfecdaa",
   "metadata": {},
   "source": [
    "# List comprehensions and logicals Discussion\n",
    "\n",
    "```<variable> for <variable> in <variable> if <variable>```"
   ]
  },
  {
   "cell_type": "code",
   "execution_count": 15,
   "id": "415ae231-b070-490a-a0d0-a374ca23de62",
   "metadata": {},
   "outputs": [
    {
     "name": "stdout",
     "output_type": "stream",
     "text": [
      "[2, 10, 120, 23]\n"
     ]
    }
   ],
   "source": [
    "my_list2 = [12, 14, 4, -2, 33, 46, -10, -120, 88, -23]\n",
    "\n",
    "negatives_as_positives = [abs(element) for element in my_list2 if element < 0]\n",
    "print(negatives_as_positives)"
   ]
  },
  {
   "cell_type": "markdown",
   "id": "abd5fc63-56df-4e04-a91f-616bcc4d0a66",
   "metadata": {
    "tags": []
   },
   "source": [
    "# String parsing"
   ]
  },
  {
   "cell_type": "code",
   "execution_count": 18,
   "id": "d06065d9-b5aa-4fe3-8ec7-0d0404a5cb79",
   "metadata": {},
   "outputs": [
    {
     "name": "stdout",
     "output_type": "stream",
     "text": [
      "A\tTAB\n",
      "A\n",
      "NEWLINE\n"
     ]
    }
   ],
   "source": [
    "# Whitespace\n",
    "\n",
    "print(\"A\\tTAB\")\n",
    "print(\"A\\nNEWLINE\")\n",
    "\n",
    "a_typical_line = \"gene\\t123123\\t1234\\t+\\tABCD\\n\""
   ]
  },
  {
   "cell_type": "code",
   "execution_count": 26,
   "id": "057935d2-b8df-40fc-b6d2-7b350fac7b64",
   "metadata": {},
   "outputs": [
    {
     "name": "stdout",
     "output_type": "stream",
     "text": [
      "a,b,c,d,e,f,g\n",
      "A\tB\tC\tD\tE\n"
     ]
    },
    {
     "data": {
      "text/plain": [
       "['A', 'B', 'C', 'D', 'E']"
      ]
     },
     "execution_count": 26,
     "metadata": {},
     "output_type": "execute_result"
    }
   ],
   "source": [
    "my_csv_str = \"a,b,c,d,e,f,g\"\n",
    "\n",
    "my_tsv_str = \"A\\tB\\tC\\tD\\tE\"\n",
    "\n",
    "print(my_csv_str)\n",
    "print(my_tsv_str)\n",
    "\n",
    "split_string = my_csv_str.split(\",\")\n",
    "\n",
    "my_tsv_str.split('\\t')"
   ]
  },
  {
   "cell_type": "code",
   "execution_count": 30,
   "id": "04679327-35b3-45e2-b119-139a31763833",
   "metadata": {},
   "outputs": [
    {
     "data": {
      "text/plain": [
       "['gene', '123123', '1234', '+', 'ABCD']"
      ]
     },
     "execution_count": 30,
     "metadata": {},
     "output_type": "execute_result"
    }
   ],
   "source": [
    "a_typical_line = \"gene\\t123123\\t1234\\t+\\tABCD\\n\"\n",
    "a_typical_line.strip().split('\\t')"
   ]
  },
  {
   "cell_type": "code",
   "execution_count": 35,
   "id": "1eb1f7ad-5b80-4ac8-8e22-39f40a45d6ca",
   "metadata": {},
   "outputs": [
    {
     "data": {
      "text/plain": [
       "['gene', '123123', '1234', '+', 'ABCD']"
      ]
     },
     "execution_count": 35,
     "metadata": {},
     "output_type": "execute_result"
    }
   ],
   "source": [
    "messy_line = \"gene \\t 123123\\t 1234\\t+\\tABCD\\n\"\n",
    "\n",
    "messy_list = messy_line.strip().split('\\t')\n",
    "\n",
    "[element.strip() for element in messy_list]"
   ]
  },
  {
   "cell_type": "code",
   "execution_count": 45,
   "id": "7a8de2b4-9f01-49b1-acd2-9518e75367dc",
   "metadata": {},
   "outputs": [
    {
     "name": "stdout",
     "output_type": "stream",
     "text": [
      "['gene', '123123', '1234', '+', 'ABCD']\n"
     ]
    }
   ],
   "source": [
    "clean_line = [elem.strip() for elem in \"gene \\t 123123\\t 1234\\t+\\tABCD\\n\".strip().split('\\t')]\n",
    "\n",
    "print(clean_line)\n",
    "# str, int, float, str, str\n",
    "\n",
    "castings = [str, int, float, str, str]\n",
    "\n",
    "casted_list = [i(elem) for i, elem in zip(castings, clean_line)]"
   ]
  },
  {
   "cell_type": "markdown",
   "id": "0505935f-4cfb-402b-b345-e25fedd3c441",
   "metadata": {
    "tags": []
   },
   "source": [
    "# File Reading Discussion\n",
    "\n",
    "Two ways of opening a file:\n",
    "\n",
    "1. Using `open` and a `for` loop:\n",
    "```\n",
    "file_obj = open('filename', 'r')\n",
    "\n",
    "for line in file_obj:\n",
    "    do stuff...\n",
    "```\n",
    "\n",
    "2. Using the `with` and `open` method:\n",
    "```\n",
    "with <file> as file_obj:\n",
    "   do stuff...\n",
    "```"
   ]
  },
  {
   "cell_type": "code",
   "execution_count": 76,
   "id": "2c4cc7ca-33f8-4121-ac2d-88024648e3fc",
   "metadata": {},
   "outputs": [],
   "source": [
    "counties_data_file = '/home/jovyan/another_repo/county_data.csv'\n",
    "\n",
    "file_obj = open(counties_data_file, 'r')\n",
    "\n",
    "data_list = []\n",
    "castings = [str, str, int, float]\n",
    "\n",
    "for line in file_obj:\n",
    "    \n",
    "    temp_line = line.strip().split(',')\n",
    "    parsed_line = [cast(elem.strip()) for cast, elem in zip(castings, temp_line)]\n",
    "    \n",
    "    data_list.append(parsed_line)"
   ]
  },
  {
   "cell_type": "code",
   "execution_count": 74,
   "id": "dffa50e1-9f0a-4d1f-a885-5e58dc9a12e3",
   "metadata": {},
   "outputs": [
    {
     "data": {
      "text/plain": [
       "[['Boulder', 'CO', 106392, 740.0],\n",
       " ['Broomfield', 'CO', 70465, 33.55],\n",
       " ['Gilpin', 'CO', 6243, 150.0],\n",
       " ['Grand', 'CO', 15734, 1870.0],\n",
       " ['Jefferson', 'CO', 582881, 774.0],\n",
       " ['Larimer', 'CO', 356899, 2634.0],\n",
       " ['Weld', 'CO', 324492, 4017.0]]"
      ]
     },
     "execution_count": 74,
     "metadata": {},
     "output_type": "execute_result"
    }
   ],
   "source": [
    "data_list"
   ]
  },
  {
   "cell_type": "code",
   "execution_count": 75,
   "id": "2737ce3a-7967-4347-9f73-7b3376063c0d",
   "metadata": {},
   "outputs": [
    {
     "data": {
      "text/plain": [
       "70465"
      ]
     },
     "execution_count": 75,
     "metadata": {},
     "output_type": "execute_result"
    }
   ],
   "source": [
    "data_list[1][2]"
   ]
  },
  {
   "cell_type": "code",
   "execution_count": 71,
   "id": "483d5ec5-0ef3-4eeb-a5b6-7ab8c991ae50",
   "metadata": {},
   "outputs": [
    {
     "name": "stdout",
     "output_type": "stream",
     "text": [
      "Boulder,CO,106392,740.0\n",
      "Broomfield,CO,70465,33.55\n",
      "Gilpin,CO,6243,150.0\n",
      "Grand,CO,15734,1870.0\n",
      "Jefferson,CO,582881,774.0\n",
      "Larimer,CO,356899,2634.0\n",
      "Weld,CO,324492,4017.0\n"
     ]
    }
   ],
   "source": [
    "cat county_data.csv"
   ]
  },
  {
   "cell_type": "markdown",
   "id": "7319089c-263f-4a40-af03-903aaf40381b",
   "metadata": {},
   "source": [
    "# Command line variables"
   ]
  },
  {
   "cell_type": "code",
   "execution_count": null,
   "id": "69cba07a-b08e-4d09-b4c5-0500a8bd7167",
   "metadata": {},
   "outputs": [],
   "source": []
  }
 ],
 "metadata": {
  "kernelspec": {
   "display_name": "Python 3 (ipykernel)",
   "language": "python",
   "name": "python3"
  },
  "language_info": {
   "codemirror_mode": {
    "name": "ipython",
    "version": 3
   },
   "file_extension": ".py",
   "mimetype": "text/x-python",
   "name": "python",
   "nbconvert_exporter": "python",
   "pygments_lexer": "ipython3",
   "version": "3.10.8"
  }
 },
 "nbformat": 4,
 "nbformat_minor": 5
}
